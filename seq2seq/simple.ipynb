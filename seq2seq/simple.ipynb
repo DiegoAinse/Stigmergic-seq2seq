{
 "cells": [
  {
   "cell_type": "code",
   "execution_count": null,
   "metadata": {
    "scrolled": true
   },
   "outputs": [],
   "source": [
    "from core import load_dataset, build_model, experiment, multiple"
   ]
  },
  {
   "cell_type": "code",
   "execution_count": null,
   "metadata": {},
   "outputs": [],
   "source": [
    "from math_dataset import MathDatasetManager\n",
    "mdsmgr = MathDatasetManager(\n",
    "    \"/dataset path\"\n",
    ")"
   ]
  },
  {
   "cell_type": "markdown",
   "metadata": {},
   "source": [
    "### Check availables types (difficulties + interpolate + extrapolate)"
   ]
  },
  {
   "cell_type": "code",
   "execution_count": null,
   "metadata": {},
   "outputs": [],
   "source": [
    "print(\"types\", list(mdsmgr.get_types()))"
   ]
  },
  {
   "cell_type": "markdown",
   "metadata": {},
   "source": [
    "### Check availables problem categories"
   ]
  },
  {
   "cell_type": "code",
   "execution_count": null,
   "metadata": {},
   "outputs": [],
   "source": [
    "print(\"categories\", list(mdsmgr.get_categories()))"
   ]
  },
  {
   "cell_type": "markdown",
   "metadata": {},
   "source": [
    "### Check availables modules for a problem category"
   ]
  },
  {
   "cell_type": "code",
   "execution_count": null,
   "metadata": {},
   "outputs": [],
   "source": [
    "print(\"modules of algebra\", mdsmgr.get_modules_for_category('algebra'))"
   ]
  },
  {
   "cell_type": "markdown",
   "metadata": {},
   "source": [
    "### Experiment Metadata"
   ]
  },
  {
   "cell_type": "code",
   "execution_count": null,
   "metadata": {},
   "outputs": [],
   "source": [
    "#tipos: 'rnn-enc-dec', 'lstm-enc-dec', stigmergic-enc-dec', 'stigmergic-output', 'stigmergic-environment', 'Transformer', 'stigmergic-total'\n",
    "#categorias y módulos de extrapolación: 'algebra' ('polynomial_roots_big'), 'arithmetic' ('add_or_sub_big', 'add_or_sub_multiple_longer', 'div_big', 'mixed_longer', 'mul_big', 'mul_div_multiple_longer'), 'comparison' ('closest_more', 'kth_biggest_more', 'sort_more'), 'measurement' ('conversion'), 'numbers' ('place_value_big', 'round_number_big'), 'probability' ('swr_p_level_set_more_samples', 'swr_p_sequence_set_more_samples')\n",
    "#device: 'cpu', 'cuda', 'xm.xla_device()'\n",
    "\n",
    "import torch\n",
    "device = torch.device('cpu')\n",
    "num_workers = 0\n",
    "tipo = 'rnn-enc-dec'\n",
    "lr = 5e-5\n",
    "n_layers = 6\n",
    "categoria = 'algebra'\n",
    "modulo = 'linear_1d'\n",
    "dificultad = 'train-mixed'\n",
    "categoria_de_extrapolacion = 'arithmetic'\n",
    "modulo_de_extrapolacion = 'add_or_sub_big'\n",
    "unique_id = \"b-1\"\n",
    "ruta = \"/dataset path\"\n",
    "\n",
    "exp_name = tipo + '_'  + str(n_layers)+ 'layers_' + categoria + '_' + modulo + '_' + dificultad "
   ]
  },
  {
   "cell_type": "code",
   "execution_count": null,
   "metadata": {},
   "outputs": [],
   "source": [
    "train_loader, val_loader, interpolate_loader, extrapolate_loader = load_dataset(\n",
    "             ruta = ruta, \n",
    "             categoria = categoria, \n",
    "             modulo = modulo, \n",
    "             dificultad = dificultad, \n",
    "             train_samples = 100, \n",
    "             interpolate_samples = 10, \n",
    "             extrapolate_samples = 10, \n",
    "             categoria_de_extrapolacion = categoria_de_extrapolacion, \n",
    "             modulo_de_extrapolacion = modulo_de_extrapolacion,\n",
    "             batch_size = 10,\n",
    "             num_workers=num_workers\n",
    "            )"
   ]
  },
  {
   "cell_type": "code",
   "execution_count": null,
   "metadata": {},
   "outputs": [],
   "source": [
    "model = build_model(device = device, \n",
    "                    tipo = tipo,\n",
    "                    n_layers = n_layers)"
   ]
  },
  {
   "cell_type": "code",
   "execution_count": null,
   "metadata": {},
   "outputs": [],
   "source": [
    "import torch\n",
    "import torch.nn as nn\n",
    "def init_weights(m):\n",
    "    if type(m) == nn.Linear:\n",
    "        #torch.nn.init.xavier_uniform(m.weight)\n",
    "        torch.nn.init.normal_(m.weight)\n",
    "        #m.bias.data.fill_(0.01)\n",
    "\n",
    "model.apply(init_weights)"
   ]
  },
  {
   "cell_type": "code",
   "execution_count": null,
   "metadata": {},
   "outputs": [],
   "source": [
    "experiment(device = device, model = model , exp_name = exp_name, \n",
    "           unique_id = unique_id, \n",
    "           epochs = 4, \n",
    "           train_loader = train_loader, val_loader = val_loader, \n",
    "           interpolate_loader = interpolate_loader, extrapolate_loader = extrapolate_loader,\n",
    "           lr = lr)"
   ]
  },
  {
   "cell_type": "code",
   "execution_count": null,
   "metadata": {},
   "outputs": [],
   "source": [
    "lista = [exp_name + '_' + unique_id]\n",
    "\n",
    "names = ['last']\n",
    "\n",
    "multiple(lista, names)"
   ]
  },
  {
   "cell_type": "code",
   "execution_count": null,
   "metadata": {},
   "outputs": [],
   "source": [
    "lista = [\"stigmergic-enc-dec_6layers_arithmetic_div_train-medium_prueba-2\",\n",
    "         ]\n",
    "\n",
    "names = ['stigmergic-total_1layers']\n",
    "\n",
    "\n",
    "multiple(lista, names)"
   ]
  }
 ],
 "metadata": {
  "kernelspec": {
   "display_name": "Python 3",
   "language": "python",
   "name": "python3"
  },
  "language_info": {
   "codemirror_mode": {
    "name": "ipython",
    "version": 3
   },
   "file_extension": ".py",
   "mimetype": "text/x-python",
   "name": "python",
   "nbconvert_exporter": "python",
   "pygments_lexer": "ipython3",
   "version": "3.8.8"
  }
 },
 "nbformat": 4,
 "nbformat_minor": 4
}
